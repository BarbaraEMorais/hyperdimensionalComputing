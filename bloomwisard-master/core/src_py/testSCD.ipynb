{
 "cells": [
  {
   "cell_type": "code",
   "execution_count": 8,
   "metadata": {},
   "outputs": [
    {
     "name": "stdout",
     "output_type": "stream",
     "text": [
      "Defaulting to user installation because normal site-packages is not writeable\n",
      "Requirement already satisfied: bitarray in /home/barbara/.local/lib/python3.12/site-packages (2.9.2)\n",
      "Note: you may need to restart the kernel to use updated packages.\n"
     ]
    }
   ],
   "source": [
    "pip install bitarray"
   ]
  },
  {
   "cell_type": "code",
   "execution_count": 9,
   "metadata": {},
   "outputs": [],
   "source": [
    "#Selecting random bits from class hypervector, respecting b < d (original dimensions of hypervector)\n",
    "\n",
    "#data = bitarray(1024)\n",
    "\n",
    "import random\n",
    "from bitarray import bitarray\n",
    "import heapq\n"
   ]
  },
  {
   "cell_type": "code",
   "execution_count": 17,
   "metadata": {},
   "outputs": [
    {
     "name": "stdout",
     "output_type": "stream",
     "text": [
      "[51, 78, 131, 147, 610, 645, 888, 969, 979, 998]\n",
      "bitarray('1001010010')\n"
     ]
    }
   ],
   "source": [
    "class_hypervect = bitarray(1000)\n",
    "\n",
    "for i in range(1000):\n",
    "    class_hypervect[i] = random.getrandbits(1)\n",
    "\n",
    "d = 1000 #dimensions of hypervector\n",
    "num_bits = 10\n",
    "\n",
    "bits_selecionados = [random.randint(0,1000) for _ in range(num_bits)]\n",
    "#print(bits_selecionados)\n",
    "\n",
    "#procurar no hypervector quais os bits correspondentes\n",
    "bits_hypervect = []\n",
    "\n",
    "for i in range(num_bits): \n",
    "    bits_hypervect.append(class_hypervect[bits_selecionados[i]])\n",
    "\n",
    "#print(bits_hypervect)\n",
    "\n",
    "#Selecting bits with higher counter of class hypervector\n",
    "\n",
    "#supondo que os contadores sejam:\n",
    "\n",
    "contadores = []\n",
    "\n",
    "for i in range(1000):\n",
    "    contadores.append(random.randint(-32,32))\n",
    "\n",
    "value_max = max(contadores)\n",
    "\n",
    "#supondo que vamos também selecionar 10:\n",
    "\n",
    "bits_counters_selected =  [indice for indice, item in enumerate(contadores) if item == value_max]\n",
    "\n",
    "#print(bits_counters_selected)\n",
    "\n",
    "bits_removidos = len(bits_counters_selected) - num_bits\n",
    "\n",
    "bits_selecionados = [random.randint(0,bits_removidos) for _ in range(num_bits)]\n",
    "\n",
    "for i in range (bits_removidos):\n",
    "\n",
    "    bits_counters_selected.pop(bits_selecionados[i])\n",
    "\n",
    "\n",
    "## bits selecionados para composição do scd \n",
    "print(bits_counters_selected)\n",
    "\n",
    "print(class_hypervect[bits_counters_selected])\n"
   ]
  },
  {
   "cell_type": "markdown",
   "metadata": {},
   "source": [
    "Se fôssemos selecionar os bits com os maiores contadores do hypervec de classe:\n",
    "\n",
    "supondo que temos um teto de +32 e piso -32"
   ]
  },
  {
   "cell_type": "code",
   "execution_count": 33,
   "metadata": {},
   "outputs": [],
   "source": [
    "bits_counters_hyperclass = [random.randint(-32,32) for _ in range(len(class_hypervect))]\n",
    "\n"
   ]
  },
  {
   "cell_type": "code",
   "execution_count": 38,
   "metadata": {},
   "outputs": [
    {
     "name": "stdout",
     "output_type": "stream",
     "text": [
      "14\n",
      "[59, 85, 131, 166, 183, 259, 269, 295, 416, 581, 901, 970, 972, 996]\n"
     ]
    }
   ],
   "source": [
    "\n",
    "bits_selecionados_counters_hyperclass = []\n",
    "for i in range(len(bits_counters_hyperclass)):\n",
    "\n",
    "    if(bits_counters_hyperclass[i]==max(bits_counters_hyperclass)):\n",
    "        bits_selecionados_counters_hyperclass.append(i) #pega a posição onde há maior contador\n",
    "    \n",
    "\n",
    "print(len(bits_selecionados_counters_hyperclass))\n",
    "\n",
    "print(bits_selecionados_counters_hyperclass)"
   ]
  },
  {
   "cell_type": "code",
   "execution_count": 44,
   "metadata": {},
   "outputs": [
    {
     "data": {
      "text/plain": [
       "'1.40%'"
      ]
     },
     "execution_count": 44,
     "metadata": {},
     "output_type": "execute_result"
    }
   ],
   "source": [
    "bits_selecionados_counters_hyperclass\n",
    "\n",
    "#bits mais significativos dentro do hypervect tendo uma proporção de:\n",
    "\n",
    "\"{:.2f}%\".format((len(bits_selecionados_counters_hyperclass)/len(bits_counters_hyperclass)*100))"
   ]
  },
  {
   "cell_type": "markdown",
   "metadata": {},
   "source": [
    "Se utilizarmos apenas esses bits como os mais importantes para fazer a classificação?\n"
   ]
  },
  {
   "cell_type": "code",
   "execution_count": 49,
   "metadata": {},
   "outputs": [
    {
     "data": {
      "text/plain": [
       "bitarray('1101011001100100111110101010001101001101110000100000000011011100100001101101111000011001010101000001000010010011100100110011100000111000101010011110111010101001110100001111101011101110000011000010001100110000101011011110001001110001101111010000000111001010100011111111111001101111110111110011001111000101001000110100010111000011000010110001100010100011000100010010011100011110101100000100100100010001111000010011110010010000110001001110110000100110101101110101111110010101010011100110110000100000100110110000011001101101111010110101001111011000110100100100100010010110000000011100010101111000001001100100001110110110010011100111101011111111010001111100100010001010011011101001000100000100011100101010011101100111010111000000000011001111101001111011000101011100111100100010001110000011111101101100100101100001001111110000110101000011010001111100000001001100111011111101111000100101110110110000001110111001001110000011000111110101101000010001000110000011001100101000101000101100011011111111010100001100000000000000000000000000')"
      ]
     },
     "execution_count": 49,
     "metadata": {},
     "output_type": "execute_result"
    }
   ],
   "source": [
    "# gerando hypervect que passou pelo encoding para ser classificado:\n",
    "\n",
    "inputToClass = bitarray(1024)\n",
    "\n",
    "for i in range(1000):\n",
    "    inputToClass[i] = random.getrandbits(1)\n",
    "\n"
   ]
  },
  {
   "cell_type": "code",
   "execution_count": 60,
   "metadata": {},
   "outputs": [
    {
     "name": "stdout",
     "output_type": "stream",
     "text": [
      "[1, 1, 0, 1, 0, 1, 1, 0, 0, 1, 1, 0, 0, 1]\n"
     ]
    },
    {
     "data": {
      "text/plain": [
       "[0, 0, 1, 1, 1, 1, 1, 1, 0, 1, 0, 0, 1, 1]"
      ]
     },
     "execution_count": 60,
     "metadata": {},
     "output_type": "execute_result"
    }
   ],
   "source": [
    "\n",
    "#selecionando bits das posições para classificar:\n",
    "inputToClassReduced = []\n",
    "\n",
    "for i in range(len(bits_selecionados_counters_hyperclass)):\n",
    "    inputToClassReduced.append(inputToClass[i])\n",
    "\n",
    "print(inputToClassReduced)\n",
    "\n",
    "hypervecClasseBits = []\n",
    "for i in range(len(bits_selecionados_counters_hyperclass)):\n",
    "    hypervecClasseBits.append(class_hypervect[bits_selecionados_counters_hyperclass[i]])\n",
    "\n",
    "hypervecClasseBits"
   ]
  },
  {
   "cell_type": "code",
   "execution_count": 63,
   "metadata": {},
   "outputs": [
    {
     "name": "stdout",
     "output_type": "stream",
     "text": [
      "7\n"
     ]
    }
   ],
   "source": [
    "distHamming = sum(a != b for a, b in zip(hypervecClasseBits, inputToClassReduced))\n",
    "\n",
    "print(distHamming)"
   ]
  },
  {
   "cell_type": "markdown",
   "metadata": {},
   "source": [
    "Dado que são 14 elementos, qual seria o marcador para verificar se aquele item pertence de fato àquela classe?\n",
    "\n",
    "opções:\n",
    "\n",
    "1) Setar a quantidade de bits mais significativos anteriormente e definir os demais hyoervectClass a partir disso\n",
    "2) Calcular para todos e o que possuir maior quantidade para ser o valor setado\n",
    "3) Pegar o menor valor ?? (na minha cabeça pior das opções)"
   ]
  },
  {
   "cell_type": "code",
   "execution_count": null,
   "metadata": {},
   "outputs": [],
   "source": []
  }
 ],
 "metadata": {
  "kernelspec": {
   "display_name": "Python 3",
   "language": "python",
   "name": "python3"
  },
  "language_info": {
   "codemirror_mode": {
    "name": "ipython",
    "version": 3
   },
   "file_extension": ".py",
   "mimetype": "text/x-python",
   "name": "python",
   "nbconvert_exporter": "python",
   "pygments_lexer": "ipython3",
   "version": "3.12.0"
  }
 },
 "nbformat": 4,
 "nbformat_minor": 2
}
